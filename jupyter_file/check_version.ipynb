{
 "cells": [
  {
   "cell_type": "code",
   "execution_count": 2,
   "metadata": {},
   "outputs": [
    {
     "name": "stdout",
     "output_type": "stream",
     "text": [
      "Current OpenCV version 4.6.0\n",
      "Current Python Version 3.9.7\n"
     ]
    }
   ],
   "source": [
    "from platform import python_version\n",
    "import cv2\n",
    "\n",
    "print(\"Current OpenCV version\",cv2.__version__)\n",
    "print(\"Current Python Version\", python_version())"
   ]
  }
 ],
 "metadata": {
  "kernelspec": {
   "display_name": "Python 3",
   "language": "python",
   "name": "python3"
  },
  "language_info": {
   "codemirror_mode": {
    "name": "ipython",
    "version": 3
   },
   "file_extension": ".py",
   "mimetype": "text/x-python",
   "name": "python",
   "nbconvert_exporter": "python",
   "pygments_lexer": "ipython3",
   "version": "3.9.7 (tags/v3.9.7:1016ef3, Aug 30 2021, 20:19:38) [MSC v.1929 64 bit (AMD64)]"
  },
  "orig_nbformat": 4,
  "vscode": {
   "interpreter": {
    "hash": "2ea0a0b8f9582ff2e2106ca454bcf43258aa1f2445d585d0bcb13a11ecfd5ee1"
   }
  }
 },
 "nbformat": 4,
 "nbformat_minor": 2
}
